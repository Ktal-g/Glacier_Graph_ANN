{
 "cells": [
  {
   "cell_type": "markdown",
   "metadata": {},
   "source": [
    "# Notebook to select glacier segment features"
   ]
  },
  {
   "cell_type": "code",
   "execution_count": 3,
   "metadata": {},
   "outputs": [
    {
     "name": "stderr",
     "output_type": "stream",
     "text": [
      "/srv/conda/envs/notebook/lib/python3.8/site-packages/oggm/cfg.py:379: FutureWarning: In future versions of OGGM, the logging config WORKFLOW will no longer print ERROR or WARNING messages, but only high level information (i.e. hiding potential errors in your code but also avoiding cluttered log files for runs with many expected errors, e.g. global runs). If you want to obtain a similar logger behavior as before, set `logging_level='WARNING'`, which will print high level info as well as errors and warnings during the run. If you want to use the new behavior and suppress this warning, set `logging_level='WORKFLOW'` and `future=True`.\n",
      "  warnings.warn(msg, category=FutureWarning)\n",
      "2021-02-15 20:37:50: oggm.cfg: Reading default parameters from the OGGM `params.cfg` configuration file.\n",
      "2021-02-15 20:37:50: oggm.cfg: Multiprocessing switched OFF according to the ENV variable OGGM_USE_MULTIPROCESSING\n",
      "2021-02-15 20:37:50: oggm.cfg: Multiprocessing: using slurm allocated processors (N=1)\n"
     ]
    }
   ],
   "source": [
    "#initilize:\n",
    "import numpy as np\n",
    "import matplotlib.pyplot as plt\n",
    "from oggm import cfg, utils, workflow, graphics, tasks\n",
    "import pandas as pd\n",
    "import geopandas as gpd\n",
    "from shapely.geometry import Point\n",
    "import os\n",
    "cfg.initialize(logging_level='WORKFLOW')"
   ]
  },
  {
   "cell_type": "code",
   "execution_count": 5,
   "metadata": {},
   "outputs": [
    {
     "data": {
      "text/html": [
       "<div>\n",
       "<style scoped>\n",
       "    .dataframe tbody tr th:only-of-type {\n",
       "        vertical-align: middle;\n",
       "    }\n",
       "\n",
       "    .dataframe tbody tr th {\n",
       "        vertical-align: top;\n",
       "    }\n",
       "\n",
       "    .dataframe thead th {\n",
       "        text-align: right;\n",
       "    }\n",
       "</style>\n",
       "<table border=\"1\" class=\"dataframe\">\n",
       "  <thead>\n",
       "    <tr style=\"text-align: right;\">\n",
       "      <th></th>\n",
       "      <th>RGIId</th>\n",
       "      <th>GLIMSId</th>\n",
       "      <th>BgnDate</th>\n",
       "      <th>EndDate</th>\n",
       "      <th>CenLon</th>\n",
       "      <th>CenLat</th>\n",
       "      <th>O1Region</th>\n",
       "      <th>O2Region</th>\n",
       "      <th>Area</th>\n",
       "      <th>Zmin</th>\n",
       "      <th>...</th>\n",
       "      <th>Lmax</th>\n",
       "      <th>Status</th>\n",
       "      <th>Connect</th>\n",
       "      <th>Form</th>\n",
       "      <th>TermType</th>\n",
       "      <th>Surging</th>\n",
       "      <th>Linkages</th>\n",
       "      <th>Name</th>\n",
       "      <th>check_geom</th>\n",
       "      <th>geometry</th>\n",
       "    </tr>\n",
       "  </thead>\n",
       "  <tbody>\n",
       "    <tr>\n",
       "      <th>0</th>\n",
       "      <td>RGI60-11.00001</td>\n",
       "      <td>G013599E47495N</td>\n",
       "      <td>20030799</td>\n",
       "      <td>20030999</td>\n",
       "      <td>13.5987</td>\n",
       "      <td>47.4949</td>\n",
       "      <td>11</td>\n",
       "      <td>1</td>\n",
       "      <td>0.122</td>\n",
       "      <td>2191</td>\n",
       "      <td>...</td>\n",
       "      <td>461</td>\n",
       "      <td>0</td>\n",
       "      <td>0</td>\n",
       "      <td>0</td>\n",
       "      <td>0</td>\n",
       "      <td>9</td>\n",
       "      <td>9</td>\n",
       "      <td>None</td>\n",
       "      <td>None</td>\n",
       "      <td>POLYGON ((13.60035 47.49330, 13.59995 47.49332...</td>\n",
       "    </tr>\n",
       "    <tr>\n",
       "      <th>1</th>\n",
       "      <td>RGI60-11.00002</td>\n",
       "      <td>G013614E47485N</td>\n",
       "      <td>20030799</td>\n",
       "      <td>20030999</td>\n",
       "      <td>13.6135</td>\n",
       "      <td>47.4845</td>\n",
       "      <td>11</td>\n",
       "      <td>1</td>\n",
       "      <td>2.292</td>\n",
       "      <td>2203</td>\n",
       "      <td>...</td>\n",
       "      <td>1853</td>\n",
       "      <td>0</td>\n",
       "      <td>0</td>\n",
       "      <td>0</td>\n",
       "      <td>0</td>\n",
       "      <td>9</td>\n",
       "      <td>9</td>\n",
       "      <td>None</td>\n",
       "      <td>None</td>\n",
       "      <td>POLYGON ((13.60638 47.47578, 13.60599 47.47579...</td>\n",
       "    </tr>\n",
       "    <tr>\n",
       "      <th>2</th>\n",
       "      <td>RGI60-11.00003</td>\n",
       "      <td>G013596E47484N</td>\n",
       "      <td>20030799</td>\n",
       "      <td>20030999</td>\n",
       "      <td>13.5960</td>\n",
       "      <td>47.4835</td>\n",
       "      <td>11</td>\n",
       "      <td>1</td>\n",
       "      <td>0.851</td>\n",
       "      <td>2280</td>\n",
       "      <td>...</td>\n",
       "      <td>1140</td>\n",
       "      <td>0</td>\n",
       "      <td>0</td>\n",
       "      <td>0</td>\n",
       "      <td>0</td>\n",
       "      <td>9</td>\n",
       "      <td>9</td>\n",
       "      <td>None</td>\n",
       "      <td>None</td>\n",
       "      <td>POLYGON ((13.59765 47.47613, 13.59726 47.47614...</td>\n",
       "    </tr>\n",
       "    <tr>\n",
       "      <th>3</th>\n",
       "      <td>RGI60-11.00004</td>\n",
       "      <td>G013583E47481N</td>\n",
       "      <td>20030799</td>\n",
       "      <td>20030999</td>\n",
       "      <td>13.5829</td>\n",
       "      <td>47.4807</td>\n",
       "      <td>11</td>\n",
       "      <td>1</td>\n",
       "      <td>0.053</td>\n",
       "      <td>2319</td>\n",
       "      <td>...</td>\n",
       "      <td>382</td>\n",
       "      <td>0</td>\n",
       "      <td>0</td>\n",
       "      <td>0</td>\n",
       "      <td>0</td>\n",
       "      <td>9</td>\n",
       "      <td>9</td>\n",
       "      <td>None</td>\n",
       "      <td>None</td>\n",
       "      <td>POLYGON ((13.58283 47.47969, 13.58243 47.47971...</td>\n",
       "    </tr>\n",
       "    <tr>\n",
       "      <th>4</th>\n",
       "      <td>RGI60-11.00005</td>\n",
       "      <td>G013603E47477N</td>\n",
       "      <td>20030799</td>\n",
       "      <td>20030999</td>\n",
       "      <td>13.6026</td>\n",
       "      <td>47.4774</td>\n",
       "      <td>11</td>\n",
       "      <td>1</td>\n",
       "      <td>0.057</td>\n",
       "      <td>2656</td>\n",
       "      <td>...</td>\n",
       "      <td>202</td>\n",
       "      <td>0</td>\n",
       "      <td>0</td>\n",
       "      <td>0</td>\n",
       "      <td>0</td>\n",
       "      <td>9</td>\n",
       "      <td>9</td>\n",
       "      <td>None</td>\n",
       "      <td>None</td>\n",
       "      <td>POLYGON ((13.60076 47.47519, 13.60036 47.47521...</td>\n",
       "    </tr>\n",
       "  </tbody>\n",
       "</table>\n",
       "<p>5 rows × 24 columns</p>\n",
       "</div>"
      ],
      "text/plain": [
       "            RGIId         GLIMSId   BgnDate   EndDate   CenLon   CenLat  \\\n",
       "0  RGI60-11.00001  G013599E47495N  20030799  20030999  13.5987  47.4949   \n",
       "1  RGI60-11.00002  G013614E47485N  20030799  20030999  13.6135  47.4845   \n",
       "2  RGI60-11.00003  G013596E47484N  20030799  20030999  13.5960  47.4835   \n",
       "3  RGI60-11.00004  G013583E47481N  20030799  20030999  13.5829  47.4807   \n",
       "4  RGI60-11.00005  G013603E47477N  20030799  20030999  13.6026  47.4774   \n",
       "\n",
       "  O1Region O2Region   Area  Zmin  ...  Lmax  Status  Connect  Form  TermType  \\\n",
       "0       11        1  0.122  2191  ...   461       0        0     0         0   \n",
       "1       11        1  2.292  2203  ...  1853       0        0     0         0   \n",
       "2       11        1  0.851  2280  ...  1140       0        0     0         0   \n",
       "3       11        1  0.053  2319  ...   382       0        0     0         0   \n",
       "4       11        1  0.057  2656  ...   202       0        0     0         0   \n",
       "\n",
       "   Surging  Linkages  Name  check_geom  \\\n",
       "0        9         9  None        None   \n",
       "1        9         9  None        None   \n",
       "2        9         9  None        None   \n",
       "3        9         9  None        None   \n",
       "4        9         9  None        None   \n",
       "\n",
       "                                            geometry  \n",
       "0  POLYGON ((13.60035 47.49330, 13.59995 47.49332...  \n",
       "1  POLYGON ((13.60638 47.47578, 13.60599 47.47579...  \n",
       "2  POLYGON ((13.59765 47.47613, 13.59726 47.47614...  \n",
       "3  POLYGON ((13.58283 47.47969, 13.58243 47.47971...  \n",
       "4  POLYGON ((13.60076 47.47519, 13.60036 47.47521...  \n",
       "\n",
       "[5 rows x 24 columns]"
      ]
     },
     "execution_count": 5,
     "metadata": {},
     "output_type": "execute_result"
    }
   ],
   "source": [
    "fr = utils.get_rgi_region_file(11, version='62')  # Central Europe\n",
    "gdf = gpd.read_file(fr)\n",
    "gdf.head()"
   ]
  },
  {
   "cell_type": "code",
   "execution_count": 6,
   "metadata": {},
   "outputs": [
    {
     "data": {
      "image/png": "[encoded data removed]",
      "text/plain": [
       "<Figure size 432x288 with 1 Axes>"
      ]
     },
     "metadata": {
      "needs_background": "light"
     },
     "output_type": "display_data"
    }
   ],
   "source": [
    "gdf[['Area']].plot(kind='hist', bins=100, logy=True);"
   ]
  },
  {
   "cell_type": "code",
   "execution_count": 8,
   "metadata": {},
   "outputs": [
    {
     "name": "stdout",
     "output_type": "stream",
     "text": [
      "               RGIId         GLIMSId   BgnDate   EndDate    CenLon   CenLat  \\\n",
      "105   RGI60-11.00106  G012697E47099N  20030799  20030999  12.69670  47.0991   \n",
      "745   RGI60-11.00746  G010757E46849N  20030799  20030999  10.75700  46.8489   \n",
      "1237  RGI60-11.01238  G008397E46624N  20030799  20030999   8.39650  46.6236   \n",
      "1327  RGI60-11.01328  G008219E46564N  20030799  20030999   8.21930  46.5642   \n",
      "1345  RGI60-11.01346  G008067E46568N  20030799  20030999   8.06736  46.5676   \n",
      "1449  RGI60-11.01450  G008019E46503N  20030799  20030999   8.01919  46.5028   \n",
      "1477  RGI60-11.01478  G008121E46517N  20030799  20030999   8.12141  46.5169   \n",
      "1826  RGI60-11.01827  G007977E46417N  20030799  20030999   7.97735  46.4173   \n",
      "1945  RGI60-11.01946  G009925E46389N  20030799  20030999   9.92523  46.3891   \n",
      "2738  RGI60-11.02739  G007639E45977N  20030799  20030999   7.63920  45.9773   \n",
      "2765  RGI60-11.02766  G007291E45965N  20030799  20030999   7.29108  45.9647   \n",
      "2821  RGI60-11.02822  G007803E45950N  20030799  20030999   7.80309  45.9502   \n",
      "3642  RGI60-11.03643  G006934E45883N  20030813  -9999999   6.93400  45.8830   \n",
      "\n",
      "     O1Region O2Region    Area  Zmin  ...   Lmax  Status  Connect  Form  \\\n",
      "105        11        1  17.774  2086  ...   8667       0        0     0   \n",
      "745        11        1  16.624  2140  ...   8242       0        0     0   \n",
      "1237       11        1  15.837  2225  ...   9908       0        0     0   \n",
      "1327       11        1  23.825  1944  ...  12635       0        0     0   \n",
      "1345       11        1  18.842  1269  ...   9285       0        0     0   \n",
      "1449       11        1  82.206  1607  ...  23746       0        0     0   \n",
      "1477       11        1  31.334  1713  ...  15373       0        0     0   \n",
      "1826       11        1  19.286  2181  ...   9090       0        0     0   \n",
      "1945       11        1  15.809  2030  ...   7393       0        0     0   \n",
      "2738       11        1  15.358  2244  ...   7719       0        0     0   \n",
      "2765       11        1  16.697  2242  ...   9983       0        0     0   \n",
      "2821       11        1  56.464  2207  ...  13618       0        0     0   \n",
      "3642       11        1  24.179  1529  ...  13228       0        0     0   \n",
      "\n",
      "      TermType  Surging  Linkages                             Name  \\\n",
      "105          0        9         1                         Pasterze   \n",
      "745          0        9         9                             None   \n",
      "1237         0        9         1                            Rhone   \n",
      "1327         0        9         9                             None   \n",
      "1345         0        9         9                             None   \n",
      "1449         0        9         9                             None   \n",
      "1477         0        9         9                             None   \n",
      "1826         0        9         9                             None   \n",
      "1945         0        9         9                             None   \n",
      "2738         0        9         9                             None   \n",
      "2765         0        9         9                             None   \n",
      "2821         0        9         9                             None   \n",
      "3642         0        9         1  FR4N01236A01 Mer de Glace/Geant   \n",
      "\n",
      "            check_geom                                           geometry  \n",
      "105   WARN:WasInvalid;  POLYGON ((12.67061 47.10489, 12.67063 47.10516...  \n",
      "745               None  POLYGON ((10.79430 46.86054, 10.79407 46.86008...  \n",
      "1237              None  POLYGON ((8.41554 46.65347, 8.41555 46.65336, ...  \n",
      "1327  WARN:WasInvalid;  POLYGON ((8.17118 46.53165, 8.17001 46.53148, ...  \n",
      "1345  WARN:WasInvalid;  POLYGON ((8.03329 46.56437, 8.03289 46.56437, ...  \n",
      "1449  WARN:WasInvalid;  POLYGON ((8.02648 46.56197, 8.02680 46.56172, ...  \n",
      "1477              None  POLYGON ((8.07577 46.55553, 8.07604 46.55551, ...  \n",
      "1826              None  POLYGON ((7.97363 46.46882, 7.97364 46.46855, ...  \n",
      "1945              None  POLYGON ((9.97288 46.39043, 9.97278 46.39040, ...  \n",
      "2738  WARN:WasInvalid;  POLYGON ((7.64506 45.97642, 7.64507 45.97615, ...  \n",
      "2765  WARN:WasInvalid;  POLYGON ((7.31197 45.96496, 7.31236 45.96497, ...  \n",
      "2821  WARN:WasInvalid;  POLYGON ((7.87103 45.94809, 7.87104 45.94782, ...  \n",
      "3642  WARN:WasInvalid;  POLYGON ((6.94098 45.91769, 6.94128 45.91716, ...  \n",
      "\n",
      "[13 rows x 24 columns]\n"
     ]
    }
   ],
   "source": [
    "gdf_by_area = gdf.loc[gdf.Area > 15]\n",
    "print(gdf_by_area)"
   ]
  },
  {
   "cell_type": "code",
   "execution_count": 10,
   "metadata": {},
   "outputs": [
    {
     "name": "stdout",
     "output_type": "stream",
     "text": [
      "working directory: /tmp/OGGM/segment_feature_selection\n",
      "105     RGI60-11.00106\n",
      "745     RGI60-11.00746\n",
      "1237    RGI60-11.01238\n",
      "1327    RGI60-11.01328\n",
      "1345    RGI60-11.01346\n",
      "1449    RGI60-11.01450\n",
      "1477    RGI60-11.01478\n",
      "1826    RGI60-11.01827\n",
      "1945    RGI60-11.01946\n",
      "2738    RGI60-11.02739\n",
      "2765    RGI60-11.02766\n",
      "2821    RGI60-11.02822\n",
      "3642    RGI60-11.03643\n",
      "Name: RGIId, dtype: object\n"
     ]
    },
    {
     "name": "stderr",
     "output_type": "stream",
     "text": [
      "2021-02-15 20:42:59: oggm.workflow: init_glacier_directories from prepro level 2 on 13 glaciers.\n",
      "2021-02-15 20:42:59: oggm.workflow: Execute entity task gdir_from_prepro on 13 glaciers\n",
      "100% of  30.9 MiB |######################| Elapsed Time: 0:00:03 Time:  0:00:03\n",
      "100% of  29.2 MiB |######################| Elapsed Time: 0:00:02 Time:  0:00:02\n",
      "100% of  31.3 MiB |######################| Elapsed Time: 0:00:02 Time:  0:00:02\n",
      "100% of  28.6 MiB |######################| Elapsed Time: 0:00:01 Time:  0:00:01\n"
     ]
    }
   ],
   "source": [
    "# define working dir:\n",
    "cfg.PATHS['working_dir'] = utils.gettempdir(dirname='segment_feature_selection', reset=True)\n",
    "print(\"working directory:\",cfg.PATHS['working_dir'])\n",
    "\n",
    "# Define the glacier for the run:\n",
    "rgi_ids = gdf_by_area.RGIId\n",
    "print(rgi_ids)\n",
    "\n",
    "# Initilize glacier directories:\n",
    "gdirs = workflow.init_glacier_directories(rgi_ids, from_prepro_level=2, prepro_border=10)"
   ]
  },
  {
   "cell_type": "code",
   "execution_count": 12,
   "metadata": {},
   "outputs": [
    {
     "name": "stderr",
     "output_type": "stream",
     "text": [
      "2021-02-15 20:43:44: oggm.workflow: Execute entity task glacier_masks on 13 glaciers\n",
      "2021-02-15 20:43:51: oggm.workflow: Execute entity task compute_centerlines on 13 glaciers\n",
      "2021-02-15 20:43:53: oggm.workflow: Execute entity task initialize_flowlines on 13 glaciers\n",
      "2021-02-15 20:43:54: oggm.workflow: Execute entity task compute_downstream_line on 13 glaciers\n",
      "2021-02-15 20:43:54: oggm.workflow: Execute entity task catchment_area on 13 glaciers\n",
      "2021-02-15 20:44:32: oggm.workflow: Execute entity task catchment_width_geom on 13 glaciers\n",
      "2021-02-15 20:45:05: oggm.workflow: Execute entity task catchment_width_correction on 13 glaciers\n",
      "2021-02-15 20:45:09: oggm.workflow: Execute entity task compute_downstream_bedshape on 1 glaciers\n",
      "2021-02-15 20:45:09: oggm.core.centerlines: AssertionError occurred during task compute_downstream_bedshape on RGI60-11.00106: len(hgts) >= 5\n",
      "2021-02-15 20:45:09: oggm.workflow: Execute entity task compute_downstream_bedshape on 1 glaciers\n",
      "2021-02-15 20:45:09: oggm.core.centerlines: AssertionError occurred during task compute_downstream_bedshape on RGI60-11.01238: len(hgts) >= 5\n",
      "2021-02-15 20:45:09: oggm.workflow: Execute entity task compute_downstream_bedshape on 1 glaciers\n",
      "2021-02-15 20:45:09: oggm.workflow: Execute entity task compute_downstream_bedshape on 1 glaciers\n",
      "2021-02-15 20:45:09: oggm.workflow: Execute entity task compute_downstream_bedshape on 1 glaciers\n"
     ]
    },
    {
     "name": "stdout",
     "output_type": "stream",
     "text": [
      "AssertionError\n",
      "AssertionError\n",
      "RGI60-11.01346 passed task\n",
      "RGI60-11.01450 passed task\n"
     ]
    },
    {
     "name": "stderr",
     "output_type": "stream",
     "text": [
      "2021-02-15 20:45:09: oggm.workflow: Execute entity task compute_downstream_bedshape on 1 glaciers\n",
      "2021-02-15 20:45:09: oggm.workflow: Execute entity task compute_downstream_bedshape on 1 glaciers\n",
      "2021-02-15 20:45:09: oggm.workflow: Execute entity task compute_downstream_bedshape on 1 glaciers\n",
      "2021-02-15 20:45:09: oggm.workflow: Execute entity task compute_downstream_bedshape on 1 glaciers\n"
     ]
    },
    {
     "name": "stdout",
     "output_type": "stream",
     "text": [
      "RGI60-11.01478 passed task\n",
      "RGI60-11.01827 passed task\n",
      "RGI60-11.01946 passed task\n",
      "RGI60-11.02739 passed task\n"
     ]
    },
    {
     "name": "stderr",
     "output_type": "stream",
     "text": [
      "2021-02-15 20:45:09: oggm.workflow: Execute entity task compute_downstream_bedshape on 1 glaciers\n",
      "2021-02-15 20:45:09: oggm.workflow: Execute entity task compute_downstream_bedshape on 1 glaciers\n",
      "2021-02-15 20:45:09: oggm.workflow: Execute entity task compute_downstream_bedshape on 1 glaciers\n",
      "2021-02-15 20:45:09: oggm.core.centerlines: AssertionError occurred during task compute_downstream_bedshape on RGI60-11.01328: len(hgts) >= 5\n",
      "2021-02-15 20:45:09: oggm.workflow: Execute entity task compute_downstream_bedshape on 1 glaciers\n",
      "2021-02-15 20:45:09: oggm.workflow: Execute entity task compute_downstream_bedshape on 1 glaciers\n"
     ]
    },
    {
     "name": "stdout",
     "output_type": "stream",
     "text": [
      "RGI60-11.02766 passed task\n",
      "RGI60-11.02822 passed task\n",
      "RGI60-11.03643 passed task\n",
      "Finished, number of glaciers: 11, number of fails: 0\n",
      "AssertionError\n",
      "RGI60-11.01450 passed task\n"
     ]
    },
    {
     "name": "stderr",
     "output_type": "stream",
     "text": [
      "2021-02-15 20:45:09: oggm.workflow: Execute entity task compute_downstream_bedshape on 1 glaciers\n",
      "2021-02-15 20:45:09: oggm.workflow: Execute entity task compute_downstream_bedshape on 1 glaciers\n",
      "2021-02-15 20:45:10: oggm.workflow: Execute entity task compute_downstream_bedshape on 1 glaciers\n",
      "2021-02-15 20:45:10: oggm.workflow: Execute entity task compute_downstream_bedshape on 1 glaciers\n"
     ]
    },
    {
     "name": "stdout",
     "output_type": "stream",
     "text": [
      "RGI60-11.01478 passed task\n",
      "RGI60-11.01827 passed task\n",
      "RGI60-11.01946 passed task\n",
      "RGI60-11.02739 passed task\n"
     ]
    },
    {
     "name": "stderr",
     "output_type": "stream",
     "text": [
      "2021-02-15 20:45:10: oggm.workflow: Execute entity task compute_downstream_bedshape on 1 glaciers\n",
      "2021-02-15 20:45:10: oggm.workflow: Execute entity task compute_downstream_bedshape on 1 glaciers\n",
      "2021-02-15 20:45:10: oggm.workflow: Execute entity task compute_downstream_bedshape on 1 glaciers\n",
      "2021-02-15 20:45:10: oggm.workflow: Execute entity task compute_downstream_bedshape on 1 glaciers\n"
     ]
    },
    {
     "name": "stdout",
     "output_type": "stream",
     "text": [
      "RGI60-11.02766 passed task\n",
      "RGI60-11.02822 passed task\n",
      "RGI60-11.03643 passed task\n",
      "Finished, number of glaciers: 10, number of fails: 0\n",
      "RGI60-11.01346 passed task\n"
     ]
    },
    {
     "name": "stderr",
     "output_type": "stream",
     "text": [
      "2021-02-15 20:45:10: oggm.workflow: Execute entity task compute_downstream_bedshape on 1 glaciers\n",
      "2021-02-15 20:45:10: oggm.workflow: Execute entity task compute_downstream_bedshape on 1 glaciers\n",
      "2021-02-15 20:45:10: oggm.workflow: Execute entity task compute_downstream_bedshape on 1 glaciers\n",
      "2021-02-15 20:45:10: oggm.workflow: Execute entity task compute_downstream_bedshape on 1 glaciers\n"
     ]
    },
    {
     "name": "stdout",
     "output_type": "stream",
     "text": [
      "RGI60-11.01450 passed task\n",
      "RGI60-11.01478 passed task\n",
      "RGI60-11.01827 passed task\n",
      "RGI60-11.01946 passed task\n"
     ]
    },
    {
     "name": "stderr",
     "output_type": "stream",
     "text": [
      "2021-02-15 20:45:10: oggm.workflow: Execute entity task compute_downstream_bedshape on 1 glaciers\n",
      "2021-02-15 20:45:10: oggm.workflow: Execute entity task compute_downstream_bedshape on 1 glaciers\n",
      "2021-02-15 20:45:10: oggm.workflow: Execute entity task compute_downstream_bedshape on 1 glaciers\n",
      "2021-02-15 20:45:10: oggm.workflow: Execute entity task compute_downstream_bedshape on 1 glaciers\n"
     ]
    },
    {
     "name": "stdout",
     "output_type": "stream",
     "text": [
      "RGI60-11.02739 passed task\n",
      "RGI60-11.02766 passed task\n",
      "RGI60-11.02822 passed task\n",
      "RGI60-11.03643 passed task\n",
      "Finished, number of glaciers: 10, number of fails: 2\n"
     ]
    },
    {
     "name": "stderr",
     "output_type": "stream",
     "text": [
      "2021-02-15 20:45:10: oggm.workflow: Execute entity task compute_downstream_bedshape on 1 glaciers\n",
      "2021-02-15 20:45:10: oggm.workflow: Execute entity task compute_downstream_bedshape on 1 glaciers\n",
      "2021-02-15 20:45:10: oggm.workflow: Execute entity task compute_downstream_bedshape on 1 glaciers\n",
      "2021-02-15 20:45:10: oggm.workflow: Execute entity task compute_downstream_bedshape on 1 glaciers\n",
      "2021-02-15 20:45:11: oggm.workflow: Execute entity task compute_downstream_bedshape on 1 glaciers\n"
     ]
    },
    {
     "name": "stdout",
     "output_type": "stream",
     "text": [
      "RGI60-11.00746 passed task\n",
      "RGI60-11.01346 passed task\n",
      "RGI60-11.01450 passed task\n",
      "RGI60-11.01478 passed task\n",
      "RGI60-11.01827 passed task\n"
     ]
    },
    {
     "name": "stderr",
     "output_type": "stream",
     "text": [
      "2021-02-15 20:45:11: oggm.workflow: Execute entity task compute_downstream_bedshape on 1 glaciers\n",
      "2021-02-15 20:45:11: oggm.workflow: Execute entity task compute_downstream_bedshape on 1 glaciers\n",
      "2021-02-15 20:45:11: oggm.workflow: Execute entity task compute_downstream_bedshape on 1 glaciers\n",
      "2021-02-15 20:45:11: oggm.workflow: Execute entity task compute_downstream_bedshape on 1 glaciers\n"
     ]
    },
    {
     "name": "stdout",
     "output_type": "stream",
     "text": [
      "RGI60-11.01946 passed task\n",
      "RGI60-11.02739 passed task\n",
      "RGI60-11.02766 passed task\n",
      "RGI60-11.02822 passed task\n",
      "RGI60-11.03643 passed task\n",
      "Finished, number of glaciers: 10, number of fails: 1\n"
     ]
    }
   ],
   "source": [
    "# Tasks needed before inversion:\n",
    "list_tasks = [tasks.glacier_masks, # needed for the following tasks, makes geometries.pkl and gridded_data.nc\n",
    "              tasks.compute_centerlines,\n",
    "              tasks.initialize_flowlines,\n",
    "              tasks.compute_downstream_line,\n",
    "]\n",
    "for task in list_tasks:\n",
    "    # The order matters!\n",
    "    workflow.execute_entity_task(task, gdirs)\n",
    "\n",
    "# More tasks needed:\n",
    "list_flowline_tasks = [\n",
    "         tasks.catchment_area,\n",
    "         tasks.catchment_width_geom,\n",
    "         tasks.catchment_width_correction\n",
    "         ]\n",
    "\n",
    "list_flowline_tasks_2 = [\n",
    "         tasks.compute_downstream_bedshape\n",
    "         ]\n",
    "\n",
    "for task in list_flowline_tasks:\n",
    "    workflow.execute_entity_task(task, gdirs)\n",
    "\n",
    "\n",
    "def try_tasks(glac_directory, task_list, n=-1, f=0):\n",
    "    n+=1\n",
    "    f=0\n",
    "    \n",
    "    while n +1 <= len(glac_directory):\n",
    "        \n",
    "        try:\n",
    "            workflow.execute_entity_task(task_list, glac_directory[n])\n",
    "            print(glac_directory[n].rgi_id, \"passed task\")\n",
    "            n+=1\n",
    "        \n",
    "        except AssertionError:\n",
    "            f+=1\n",
    "            print(\"AssertionError\")\n",
    "            glac_directory.remove(glac_directory[n])\n",
    "            if glac_directory[n] not in glac_directory: \n",
    "                print(glac_directory[n].rgi_id , \"is removed from directory\")\n",
    "                \n",
    "            if n < len(glac_directory): try_tasks(glac_directory, task_list, n=n, f=f)\n",
    "    \n",
    "    if n == len(glac_directory): print(\"Finished, number of glaciers: {}, number of fails: {}\".format(n,f))\n",
    "\n",
    "try_tasks(gdirs, list_flowline_tasks_2[0])"
   ]
  },
  {
   "cell_type": "code",
   "execution_count": 15,
   "metadata": {},
   "outputs": [],
   "source": [
    "import xarray as xr"
   ]
  },
  {
   "cell_type": "code",
   "execution_count": 16,
   "metadata": {},
   "outputs": [],
   "source": [
    "import logging\n",
    "# Module logger\n",
    "log = logging.getLogger(__name__)\n",
    "\n",
    "import geopandas as gpd\n",
    "import numpy as np\n",
    "from skimage import measure\n",
    "from shapely.ops import transform\n",
    "import shapely.geometry as shpg\n",
    "from scipy.ndimage.measurements import label, find_objects\n",
    "\n",
    "from shapely.geometry import mapping, Polygon\n",
    "import fiona\n",
    "\n",
    "def mask_to_polygon(mask, gdir=None):\n",
    "    \"\"\"Converts a mask to a single polygon.\n",
    "\n",
    "    The mask should be a single entity with nunataks: I didnt test for more\n",
    "    than one \"blob\".\n",
    "\n",
    "    Parameters\n",
    "    ----------\n",
    "    mask: 2d array with ones and zeros\n",
    "        the mask to convert\n",
    "    gdir: GlacierDirectory\n",
    "        for logging\n",
    "\n",
    "    Returns\n",
    "    -------\n",
    "    (poly, poly_no_nunataks) Shapely polygons\n",
    "    \"\"\"\n",
    "\n",
    "    regions, nregions = label(mask, structure=LABEL_STRUCT)\n",
    "    if nregions > 1:\n",
    "        rid = ''\n",
    "        if gdir is not None:\n",
    "            rid = gdir.rgi_id\n",
    "        log.debug('(%s) we had to cut a blob from the catchment', rid)\n",
    "        \n",
    "        # Check the size of those\n",
    "        region_sizes = [np.sum(regions == r) for r in np.arange(1, nregions+1)]\n",
    "        am = np.argmax(region_sizes)\n",
    "        \n",
    "        # Check not a strange glacier\n",
    "        sr = region_sizes.pop(am)\n",
    "        for ss in region_sizes:\n",
    "            if (ss / sr) > 0.2:\n",
    "                log.warning('(%s) this blob was unusually large', rid)\n",
    "        mask[:] = 0\n",
    "        mask[np.where(regions == (am+1))] = 1\n",
    "    \n",
    "    nlist = measure.find_contours(mask, 0.5)\n",
    "        \n",
    "    nlist_new = np.zeros_like(nlist)\n",
    "    for ND in range(0,len(nlist)):\n",
    "        newNDarray = gdir.grid.ij_to_crs(nlist[ND][:,1], nlist[ND][:,0], crs='EPSG:4326')\n",
    "        nlist_new[ND] = np.flip(np.transpose(newNDarray),axis=-1)\n",
    "    nlist = nlist_new\n",
    "    \n",
    "    # First is the exterior, the rest are nunataks\n",
    "    e_line = shpg.LinearRing(nlist[0][:, ::-1])\n",
    "    i_lines = [shpg.LinearRing(ipoly[:, ::-1]) for ipoly in nlist[1:]]\n",
    "    \n",
    "    poly = shpg.Polygon(e_line, i_lines).buffer(0)\n",
    "    if not poly.is_valid:\n",
    "        raise GeometryError('Mask to polygon conversion error.')\n",
    "    poly_no = shpg.Polygon(e_line).buffer(0)\n",
    "    if not poly_no.is_valid:\n",
    "        raise GeometryError('Mask to polygon conversion error.')\n",
    "    return poly, poly_no\n",
    "\n",
    "LABEL_STRUCT = np.array([[0, 1, 0],\n",
    "                         [1, 1, 1],\n",
    "                         [0, 1, 0]])\n",
    "def flip(x, y):\n",
    "    \"\"\"Flips the x and y coordinate values\"\"\"\n",
    "    return x, -y"
   ]
  },
  {
   "cell_type": "code",
   "execution_count": 17,
   "metadata": {},
   "outputs": [],
   "source": [
    "from scipy import optimize\n",
    "import numpy as np\n",
    "import matplotlib.pyplot as plt\n",
    "\n",
    "\n",
    "class ComputeCurvature:\n",
    "    def __init__(self):\n",
    "        \"\"\" Initialize some variables \"\"\"\n",
    "        self.xc = 0  # X-coordinate of circle center\n",
    "        self.yc = 0  # Y-coordinate of circle center\n",
    "        self.r = 0   # Radius of the circle\n",
    "        self.xx = np.array([])  # Data points\n",
    "        self.yy = np.array([])  # Data points\n",
    "\n",
    "    def calc_r(self, xc, yc):\n",
    "        \"\"\" calculate the distance of each 2D points from the center (xc, yc) \"\"\"\n",
    "        return np.sqrt((self.xx-xc)**2 + (self.yy-yc)**2)\n",
    "\n",
    "    def f(self, c):\n",
    "        \"\"\" calculate the algebraic distance between the data points and the mean circle centered at c=(xc, yc) \"\"\"\n",
    "        ri = self.calc_r(*c)\n",
    "        return ri - ri.mean()\n",
    "\n",
    "    def df(self, c):\n",
    "        \"\"\" Jacobian of f_2b\n",
    "        The axis corresponding to derivatives must be coherent with the col_deriv option of leastsq\"\"\"\n",
    "        xc, yc = c\n",
    "        df_dc = np.empty((len(c), self.xx.size))\n",
    "\n",
    "        ri = self.calc_r(xc, yc)\n",
    "        df_dc[0] = (xc - self.xx)/ri                   # dR/dxc\n",
    "        df_dc[1] = (yc - self.yy)/ri                   # dR/dyc\n",
    "        df_dc = df_dc - df_dc.mean(axis=1)[:, np.newaxis]\n",
    "        return df_dc\n",
    "\n",
    "    def fit(self, xx, yy):\n",
    "        self.xx = xx\n",
    "        self.yy = yy\n",
    "        center_estimate = np.r_[np.mean(xx), np.mean(yy)]\n",
    "        center = optimize.leastsq(self.f, center_estimate, Dfun=self.df, col_deriv=True)[0]\n",
    "\n",
    "        self.xc, self.yc = center\n",
    "        ri = self.calc_r(*center)\n",
    "        self.r = ri.mean()\n",
    "\n",
    "        return 1 / self.r  # Return the curvature\n",
    "comp_curv = ComputeCurvature()"
   ]
  },
  {
   "cell_type": "code",
   "execution_count": 21,
   "metadata": {},
   "outputs": [
    {
     "data": {
      "image/png": "[encoded data removed]",
      "text/plain": [
       "<Figure size 576x504 with 2 Axes>"
      ]
     },
     "metadata": {
      "needs_background": "light"
     },
     "output_type": "display_data"
    }
   ],
   "source": [
    "graphics.plot_domain(gdirs[6], figsize=(8, 7))"
   ]
  },
  {
   "cell_type": "code",
   "execution_count": 22,
   "metadata": {},
   "outputs": [],
   "source": [
    "def CreatGlacierCatchments(glacier_dir, inflow=False):\n",
    "    gdfc = gpd.GeoDataFrame()\n",
    "    \n",
    "    for i in range(0, len(glacier_dir)):\n",
    "        geom = glacier_dir[i].read_pickle('geometries')\n",
    "        geom_shp = transform(flip, geom['polygon_hr'])\n",
    "        flowline = glacier_dir[i].read_pickle('inversion_flowlines') #Centerline object\n",
    "        \n",
    "        dx = abs(glacier_dir[i].grid.dx) # m\n",
    "        dy = abs(glacier_dir[i].grid.dy) # m\n",
    "        \n",
    "        \n",
    "        rgi_id = glacier_dir[i].rgi_id\n",
    "        \n",
    "        catchment_indices = geom['catchment_indices']\n",
    "        \n",
    "        with xr.open_dataset(glacier_dir[i].get_filepath('gridded_data')) as ds:\n",
    "                topo = ds.topo\n",
    "                # Glacier outline raster\n",
    "                mask_outline = ds.glacier_ext\n",
    "                \n",
    "        mask = np.zeros((glacier_dir[i].grid.ny, glacier_dir[i].grid.nx))\n",
    "\n",
    "        for j, ci in enumerate(catchment_indices):\n",
    "            \"\"\"\n",
    "            j = flow line/catchment (the same) index\n",
    "            ci = catchment coordinates (?)\n",
    "            \"\"\"\n",
    "            # Catchment polygon\n",
    "            mask[:] = 0\n",
    "            mask[tuple(ci.T)] = 1\n",
    "            \n",
    "            topo_ext = topo.where(mask==1)\n",
    "            seg_mean = int(topo_ext.mean())\n",
    "            seg_extent = int(topo_ext.max() - topo_ext.min())\n",
    "            \n",
    "            polygon, poly_no = mask_to_polygon(mask, gdir=gdirs[i])\n",
    "                        \n",
    "            #Geometry:\n",
    "            gdfc.loc[rgi_id + str(j), 'geometry'] = poly_no\n",
    "            \n",
    "            #Add RGI number\n",
    "            gdfc.loc[rgi_id + str(j), 'RGI'] = str(rgi_id)\n",
    "            \n",
    "            #Catchment index:\n",
    "            print(\"catchment:\", rgi_id + str(j), \"added\")\n",
    "            gdfc.loc[rgi_id + str(j), 'catchment'] = int(j)\n",
    "            \n",
    "            #Area:\n",
    "            area_km = poly_no.area * dx/1000 * dy/1000 # km^2\n",
    "            gdfc.loc[rgi_id + str(j), 'area'] = area_km\n",
    "            \n",
    "            #Mean:\n",
    "            gdfc.loc[rgi_id + str(j), 'mean_alt'] = seg_mean\n",
    "            \n",
    "            #Extent:\n",
    "            gdfc.loc[rgi_id + str(j), 'alt_diff'] = seg_extent\n",
    "            \n",
    "            #Number of segments in catchment:\n",
    "            seg_no = len(flowline[j].widths)\n",
    "            gdfc.loc[rgi_id + str(j), 'segments'] = seg_no\n",
    "            \n",
    "            if inflow:\n",
    "                #In flow indices (flowline[j][In flow indices] = segments that have inflow from other catchment)\n",
    "                inflow_indices = flowline[j].inflow_indices\n",
    "                gdfc.loc[rgi_id + str(j), 'inflow indices (list)'] = str(inflow_indices)\n",
    "            \n",
    "            #flows to index\n",
    "            #flows_to_index = flowline[j].flows_to_indice\n",
    "            #gdfc.loc[rgi_id + str(j), 'flows to indices'] = flows_to_index\n",
    "    gdfc.set_crs(\"EPSG:4326\")  \n",
    "    return gdfc"
   ]
  },
  {
   "cell_type": "code",
   "execution_count": 23,
   "metadata": {},
   "outputs": [],
   "source": [
    "def CreatOutlineCatchments(glacier_dir, inflow=False):\n",
    "    gdfc = gpd.GeoDataFrame()\n",
    "    \n",
    "    for i in range(0, len(glacier_dir)):\n",
    "        geom = glacier_dir[i].read_pickle('geometries')\n",
    "        geom_shp = transform(flip, geom['polygon_hr'])\n",
    "        flowline = glacier_dir[i].read_pickle('inversion_flowlines') #Centerline object\n",
    "        \n",
    "        catchment_indices = geom['catchment_indices']\n",
    "        \n",
    "        mask = np.zeros((glacier_dir[i].grid.ny, glacier_dir[i].grid.nx))\n",
    "\n",
    "        for j, ci in enumerate(catchment_indices):\n",
    "            \"\"\"\n",
    "            j = flow line/catchment (the same) index\n",
    "            ci = catchment coordinates (?)\n",
    "            \"\"\"\n",
    "            # Catchment polygon\n",
    "            mask[:] = 0\n",
    "            mask[tuple(ci.T)] = 1\n",
    "            print(tuple(ci))\n",
    "            #polygon, poly_no = mask_to_polygon(mask, gdir=gdirs[i])\n",
    "                        \n",
    "            #Geometry:\n",
    "            #gdfc.loc[rgi_id + str(j), 'geometry'] = poly_no\n",
    "            \n",
    "    return gdfc"
   ]
  },
  {
   "cell_type": "code",
   "execution_count": 24,
   "metadata": {},
   "outputs": [
    {
     "name": "stdout",
     "output_type": "stream",
     "text": [
      "catchment: RGI60-11.007460 added\n",
      "catchment: RGI60-11.007461 added\n",
      "catchment: RGI60-11.007462 added\n",
      "catchment: RGI60-11.007463 added\n",
      "catchment: RGI60-11.007464 added\n",
      "catchment: RGI60-11.007465 added\n"
     ]
    },
    {
     "name": "stderr",
     "output_type": "stream",
     "text": [
      "<__array_function__ internals>:5: VisibleDeprecationWarning: Creating an ndarray from ragged nested sequences (which is a list-or-tuple of lists-or-tuples-or ndarrays with different lengths or shapes) is deprecated. If you meant to do this, you must specify 'dtype=object' when creating the ndarray\n"
     ]
    },
    {
     "name": "stdout",
     "output_type": "stream",
     "text": [
      "catchment: RGI60-11.013460 added\n",
      "catchment: RGI60-11.013461 added\n",
      "catchment: RGI60-11.013462 added\n",
      "catchment: RGI60-11.013463 added\n",
      "catchment: RGI60-11.013464 added\n"
     ]
    },
    {
     "name": "stderr",
     "output_type": "stream",
     "text": [
      "<__array_function__ internals>:5: VisibleDeprecationWarning: Creating an ndarray from ragged nested sequences (which is a list-or-tuple of lists-or-tuples-or ndarrays with different lengths or shapes) is deprecated. If you meant to do this, you must specify 'dtype=object' when creating the ndarray\n",
      "<__array_function__ internals>:5: VisibleDeprecationWarning: Creating an ndarray from ragged nested sequences (which is a list-or-tuple of lists-or-tuples-or ndarrays with different lengths or shapes) is deprecated. If you meant to do this, you must specify 'dtype=object' when creating the ndarray\n"
     ]
    },
    {
     "name": "stdout",
     "output_type": "stream",
     "text": [
      "catchment: RGI60-11.013465 added\n",
      "catchment: RGI60-11.014500 added\n",
      "catchment: RGI60-11.014501 added\n"
     ]
    },
    {
     "name": "stderr",
     "output_type": "stream",
     "text": [
      "<__array_function__ internals>:5: VisibleDeprecationWarning: Creating an ndarray from ragged nested sequences (which is a list-or-tuple of lists-or-tuples-or ndarrays with different lengths or shapes) is deprecated. If you meant to do this, you must specify 'dtype=object' when creating the ndarray\n",
      "<__array_function__ internals>:5: VisibleDeprecationWarning: Creating an ndarray from ragged nested sequences (which is a list-or-tuple of lists-or-tuples-or ndarrays with different lengths or shapes) is deprecated. If you meant to do this, you must specify 'dtype=object' when creating the ndarray\n",
      "<__array_function__ internals>:5: VisibleDeprecationWarning: Creating an ndarray from ragged nested sequences (which is a list-or-tuple of lists-or-tuples-or ndarrays with different lengths or shapes) is deprecated. If you meant to do this, you must specify 'dtype=object' when creating the ndarray\n"
     ]
    },
    {
     "name": "stdout",
     "output_type": "stream",
     "text": [
      "catchment: RGI60-11.014502 added\n",
      "catchment: RGI60-11.014503 added\n",
      "catchment: RGI60-11.014504 added\n"
     ]
    },
    {
     "name": "stderr",
     "output_type": "stream",
     "text": [
      "<__array_function__ internals>:5: VisibleDeprecationWarning: Creating an ndarray from ragged nested sequences (which is a list-or-tuple of lists-or-tuples-or ndarrays with different lengths or shapes) is deprecated. If you meant to do this, you must specify 'dtype=object' when creating the ndarray\n",
      "<__array_function__ internals>:5: VisibleDeprecationWarning: Creating an ndarray from ragged nested sequences (which is a list-or-tuple of lists-or-tuples-or ndarrays with different lengths or shapes) is deprecated. If you meant to do this, you must specify 'dtype=object' when creating the ndarray\n"
     ]
    },
    {
     "name": "stdout",
     "output_type": "stream",
     "text": [
      "catchment: RGI60-11.014505 added\n",
      "catchment: RGI60-11.014780 added\n",
      "catchment: RGI60-11.014781 added\n",
      "catchment: RGI60-11.014782 added\n"
     ]
    },
    {
     "name": "stderr",
     "output_type": "stream",
     "text": [
      "<__array_function__ internals>:5: VisibleDeprecationWarning: Creating an ndarray from ragged nested sequences (which is a list-or-tuple of lists-or-tuples-or ndarrays with different lengths or shapes) is deprecated. If you meant to do this, you must specify 'dtype=object' when creating the ndarray\n",
      "<__array_function__ internals>:5: VisibleDeprecationWarning: Creating an ndarray from ragged nested sequences (which is a list-or-tuple of lists-or-tuples-or ndarrays with different lengths or shapes) is deprecated. If you meant to do this, you must specify 'dtype=object' when creating the ndarray\n"
     ]
    },
    {
     "name": "stdout",
     "output_type": "stream",
     "text": [
      "catchment: RGI60-11.014783 added\n",
      "catchment: RGI60-11.014784 added\n",
      "catchment: RGI60-11.014785 added\n"
     ]
    },
    {
     "name": "stderr",
     "output_type": "stream",
     "text": [
      "<__array_function__ internals>:5: VisibleDeprecationWarning: Creating an ndarray from ragged nested sequences (which is a list-or-tuple of lists-or-tuples-or ndarrays with different lengths or shapes) is deprecated. If you meant to do this, you must specify 'dtype=object' when creating the ndarray\n",
      "<__array_function__ internals>:5: VisibleDeprecationWarning: Creating an ndarray from ragged nested sequences (which is a list-or-tuple of lists-or-tuples-or ndarrays with different lengths or shapes) is deprecated. If you meant to do this, you must specify 'dtype=object' when creating the ndarray\n"
     ]
    },
    {
     "name": "stdout",
     "output_type": "stream",
     "text": [
      "catchment: RGI60-11.014786 added\n",
      "catchment: RGI60-11.018270 added\n",
      "catchment: RGI60-11.018271 added\n"
     ]
    },
    {
     "name": "stderr",
     "output_type": "stream",
     "text": [
      "<__array_function__ internals>:5: VisibleDeprecationWarning: Creating an ndarray from ragged nested sequences (which is a list-or-tuple of lists-or-tuples-or ndarrays with different lengths or shapes) is deprecated. If you meant to do this, you must specify 'dtype=object' when creating the ndarray\n",
      "<__array_function__ internals>:5: VisibleDeprecationWarning: Creating an ndarray from ragged nested sequences (which is a list-or-tuple of lists-or-tuples-or ndarrays with different lengths or shapes) is deprecated. If you meant to do this, you must specify 'dtype=object' when creating the ndarray\n",
      "<__array_function__ internals>:5: VisibleDeprecationWarning: Creating an ndarray from ragged nested sequences (which is a list-or-tuple of lists-or-tuples-or ndarrays with different lengths or shapes) is deprecated. If you meant to do this, you must specify 'dtype=object' when creating the ndarray\n"
     ]
    },
    {
     "name": "stdout",
     "output_type": "stream",
     "text": [
      "catchment: RGI60-11.018272 added\n",
      "catchment: RGI60-11.018273 added\n"
     ]
    },
    {
     "name": "stderr",
     "output_type": "stream",
     "text": [
      "<__array_function__ internals>:5: VisibleDeprecationWarning: Creating an ndarray from ragged nested sequences (which is a list-or-tuple of lists-or-tuples-or ndarrays with different lengths or shapes) is deprecated. If you meant to do this, you must specify 'dtype=object' when creating the ndarray\n",
      "<__array_function__ internals>:5: VisibleDeprecationWarning: Creating an ndarray from ragged nested sequences (which is a list-or-tuple of lists-or-tuples-or ndarrays with different lengths or shapes) is deprecated. If you meant to do this, you must specify 'dtype=object' when creating the ndarray\n"
     ]
    },
    {
     "name": "stdout",
     "output_type": "stream",
     "text": [
      "catchment: RGI60-11.018274 added\n",
      "catchment: RGI60-11.018275 added\n"
     ]
    },
    {
     "name": "stderr",
     "output_type": "stream",
     "text": [
      "<__array_function__ internals>:5: VisibleDeprecationWarning: Creating an ndarray from ragged nested sequences (which is a list-or-tuple of lists-or-tuples-or ndarrays with different lengths or shapes) is deprecated. If you meant to do this, you must specify 'dtype=object' when creating the ndarray\n"
     ]
    },
    {
     "name": "stdout",
     "output_type": "stream",
     "text": [
      "catchment: RGI60-11.019460 added\n",
      "catchment: RGI60-11.019461 added\n",
      "catchment: RGI60-11.019462 added\n"
     ]
    },
    {
     "name": "stderr",
     "output_type": "stream",
     "text": [
      "<__array_function__ internals>:5: VisibleDeprecationWarning: Creating an ndarray from ragged nested sequences (which is a list-or-tuple of lists-or-tuples-or ndarrays with different lengths or shapes) is deprecated. If you meant to do this, you must specify 'dtype=object' when creating the ndarray\n",
      "<__array_function__ internals>:5: VisibleDeprecationWarning: Creating an ndarray from ragged nested sequences (which is a list-or-tuple of lists-or-tuples-or ndarrays with different lengths or shapes) is deprecated. If you meant to do this, you must specify 'dtype=object' when creating the ndarray\n"
     ]
    },
    {
     "name": "stdout",
     "output_type": "stream",
     "text": [
      "catchment: RGI60-11.019463 added\n",
      "catchment: RGI60-11.027390 added\n",
      "catchment: RGI60-11.027391 added\n",
      "catchment: RGI60-11.027392 added\n"
     ]
    },
    {
     "name": "stderr",
     "output_type": "stream",
     "text": [
      "<__array_function__ internals>:5: VisibleDeprecationWarning: Creating an ndarray from ragged nested sequences (which is a list-or-tuple of lists-or-tuples-or ndarrays with different lengths or shapes) is deprecated. If you meant to do this, you must specify 'dtype=object' when creating the ndarray\n"
     ]
    },
    {
     "name": "stdout",
     "output_type": "stream",
     "text": [
      "catchment: RGI60-11.027393 added\n",
      "catchment: RGI60-11.027394 added\n",
      "catchment: RGI60-11.027660 added\n",
      "catchment: RGI60-11.027661 added\n",
      "catchment: RGI60-11.027662 added\n",
      "catchment: RGI60-11.027663 added\n",
      "catchment: RGI60-11.027664 added\n",
      "catchment: RGI60-11.027665 added\n",
      "catchment: RGI60-11.027666 added\n"
     ]
    },
    {
     "name": "stderr",
     "output_type": "stream",
     "text": [
      "<__array_function__ internals>:5: VisibleDeprecationWarning: Creating an ndarray from ragged nested sequences (which is a list-or-tuple of lists-or-tuples-or ndarrays with different lengths or shapes) is deprecated. If you meant to do this, you must specify 'dtype=object' when creating the ndarray\n",
      "<__array_function__ internals>:5: VisibleDeprecationWarning: Creating an ndarray from ragged nested sequences (which is a list-or-tuple of lists-or-tuples-or ndarrays with different lengths or shapes) is deprecated. If you meant to do this, you must specify 'dtype=object' when creating the ndarray\n"
     ]
    },
    {
     "name": "stdout",
     "output_type": "stream",
     "text": [
      "catchment: RGI60-11.028220 added\n",
      "catchment: RGI60-11.028221 added\n",
      "catchment: RGI60-11.028222 added\n",
      "catchment: RGI60-11.028223 added\n"
     ]
    },
    {
     "name": "stderr",
     "output_type": "stream",
     "text": [
      "<__array_function__ internals>:5: VisibleDeprecationWarning: Creating an ndarray from ragged nested sequences (which is a list-or-tuple of lists-or-tuples-or ndarrays with different lengths or shapes) is deprecated. If you meant to do this, you must specify 'dtype=object' when creating the ndarray\n",
      "<__array_function__ internals>:5: VisibleDeprecationWarning: Creating an ndarray from ragged nested sequences (which is a list-or-tuple of lists-or-tuples-or ndarrays with different lengths or shapes) is deprecated. If you meant to do this, you must specify 'dtype=object' when creating the ndarray\n",
      "<__array_function__ internals>:5: VisibleDeprecationWarning: Creating an ndarray from ragged nested sequences (which is a list-or-tuple of lists-or-tuples-or ndarrays with different lengths or shapes) is deprecated. If you meant to do this, you must specify 'dtype=object' when creating the ndarray\n"
     ]
    },
    {
     "name": "stdout",
     "output_type": "stream",
     "text": [
      "catchment: RGI60-11.028224 added\n",
      "catchment: RGI60-11.028225 added\n"
     ]
    },
    {
     "name": "stderr",
     "output_type": "stream",
     "text": [
      "<__array_function__ internals>:5: VisibleDeprecationWarning: Creating an ndarray from ragged nested sequences (which is a list-or-tuple of lists-or-tuples-or ndarrays with different lengths or shapes) is deprecated. If you meant to do this, you must specify 'dtype=object' when creating the ndarray\n",
      "<__array_function__ internals>:5: VisibleDeprecationWarning: Creating an ndarray from ragged nested sequences (which is a list-or-tuple of lists-or-tuples-or ndarrays with different lengths or shapes) is deprecated. If you meant to do this, you must specify 'dtype=object' when creating the ndarray\n"
     ]
    },
    {
     "name": "stdout",
     "output_type": "stream",
     "text": [
      "catchment: RGI60-11.036430 added\n",
      "catchment: RGI60-11.036431 added\n"
     ]
    },
    {
     "name": "stderr",
     "output_type": "stream",
     "text": [
      "<__array_function__ internals>:5: VisibleDeprecationWarning: Creating an ndarray from ragged nested sequences (which is a list-or-tuple of lists-or-tuples-or ndarrays with different lengths or shapes) is deprecated. If you meant to do this, you must specify 'dtype=object' when creating the ndarray\n",
      "<__array_function__ internals>:5: VisibleDeprecationWarning: Creating an ndarray from ragged nested sequences (which is a list-or-tuple of lists-or-tuples-or ndarrays with different lengths or shapes) is deprecated. If you meant to do this, you must specify 'dtype=object' when creating the ndarray\n",
      "<__array_function__ internals>:5: VisibleDeprecationWarning: Creating an ndarray from ragged nested sequences (which is a list-or-tuple of lists-or-tuples-or ndarrays with different lengths or shapes) is deprecated. If you meant to do this, you must specify 'dtype=object' when creating the ndarray\n"
     ]
    },
    {
     "name": "stdout",
     "output_type": "stream",
     "text": [
      "catchment: RGI60-11.036432 added\n",
      "catchment: RGI60-11.036433 added\n",
      "catchment: RGI60-11.036434 added\n",
      "catchment: RGI60-11.036435 added\n",
      "catchment: RGI60-11.036436 added\n"
     ]
    },
    {
     "name": "stderr",
     "output_type": "stream",
     "text": [
      "<__array_function__ internals>:5: VisibleDeprecationWarning: Creating an ndarray from ragged nested sequences (which is a list-or-tuple of lists-or-tuples-or ndarrays with different lengths or shapes) is deprecated. If you meant to do this, you must specify 'dtype=object' when creating the ndarray\n",
      "<__array_function__ internals>:5: VisibleDeprecationWarning: Creating an ndarray from ragged nested sequences (which is a list-or-tuple of lists-or-tuples-or ndarrays with different lengths or shapes) is deprecated. If you meant to do this, you must specify 'dtype=object' when creating the ndarray\n"
     ]
    },
    {
     "name": "stdout",
     "output_type": "stream",
     "text": [
      "catchment: RGI60-11.036437 added\n"
     ]
    },
    {
     "data": {
      "text/html": [
       "<div>\n",
       "<style scoped>\n",
       "    .dataframe tbody tr th:only-of-type {\n",
       "        vertical-align: middle;\n",
       "    }\n",
       "\n",
       "    .dataframe tbody tr th {\n",
       "        vertical-align: top;\n",
       "    }\n",
       "\n",
       "    .dataframe thead th {\n",
       "        text-align: right;\n",
       "    }\n",
       "</style>\n",
       "<table border=\"1\" class=\"dataframe\">\n",
       "  <thead>\n",
       "    <tr style=\"text-align: right;\">\n",
       "      <th></th>\n",
       "      <th>geometry</th>\n",
       "      <th>RGI</th>\n",
       "      <th>catchment</th>\n",
       "      <th>area</th>\n",
       "      <th>mean_alt</th>\n",
       "      <th>alt_diff</th>\n",
       "      <th>segments</th>\n",
       "    </tr>\n",
       "  </thead>\n",
       "  <tbody>\n",
       "    <tr>\n",
       "      <th>RGI60-11.007460</th>\n",
       "      <td>POLYGON ((10.78165 46.85384, 10.78077 46.85384...</td>\n",
       "      <td>RGI60-11.00746</td>\n",
       "      <td>0.0</td>\n",
       "      <td>9.552365e-07</td>\n",
       "      <td>3065.0</td>\n",
       "      <td>649.0</td>\n",
       "      <td>13.0</td>\n",
       "    </tr>\n",
       "    <tr>\n",
       "      <th>RGI60-11.007461</th>\n",
       "      <td>POLYGON ((10.77550 46.84480, 10.77462 46.84480...</td>\n",
       "      <td>RGI60-11.00746</td>\n",
       "      <td>1.0</td>\n",
       "      <td>6.267722e-07</td>\n",
       "      <td>3025.0</td>\n",
       "      <td>478.0</td>\n",
       "      <td>10.0</td>\n",
       "    </tr>\n",
       "    <tr>\n",
       "      <th>RGI60-11.007462</th>\n",
       "      <td>POLYGON ((10.74562 46.85083, 10.74474 46.85083...</td>\n",
       "      <td>RGI60-11.00746</td>\n",
       "      <td>2.0</td>\n",
       "      <td>9.574832e-07</td>\n",
       "      <td>2994.0</td>\n",
       "      <td>802.0</td>\n",
       "      <td>9.0</td>\n",
       "    </tr>\n",
       "    <tr>\n",
       "      <th>RGI60-11.007463</th>\n",
       "      <td>POLYGON ((10.77286 46.82490, 10.77198 46.82490...</td>\n",
       "      <td>RGI60-11.00746</td>\n",
       "      <td>3.0</td>\n",
       "      <td>9.880243e-07</td>\n",
       "      <td>3267.0</td>\n",
       "      <td>236.0</td>\n",
       "      <td>7.0</td>\n",
       "    </tr>\n",
       "    <tr>\n",
       "      <th>RGI60-11.007464</th>\n",
       "      <td>POLYGON ((10.74474 46.83395, 10.74387 46.83395...</td>\n",
       "      <td>RGI60-11.00746</td>\n",
       "      <td>4.0</td>\n",
       "      <td>2.303434e-06</td>\n",
       "      <td>3198.0</td>\n",
       "      <td>544.0</td>\n",
       "      <td>22.0</td>\n",
       "    </tr>\n",
       "  </tbody>\n",
       "</table>\n",
       "</div>"
      ],
      "text/plain": [
       "                                                          geometry  \\\n",
       "RGI60-11.007460  POLYGON ((10.78165 46.85384, 10.78077 46.85384...   \n",
       "RGI60-11.007461  POLYGON ((10.77550 46.84480, 10.77462 46.84480...   \n",
       "RGI60-11.007462  POLYGON ((10.74562 46.85083, 10.74474 46.85083...   \n",
       "RGI60-11.007463  POLYGON ((10.77286 46.82490, 10.77198 46.82490...   \n",
       "RGI60-11.007464  POLYGON ((10.74474 46.83395, 10.74387 46.83395...   \n",
       "\n",
       "                            RGI  catchment          area  mean_alt  alt_diff  \\\n",
       "RGI60-11.007460  RGI60-11.00746        0.0  9.552365e-07    3065.0     649.0   \n",
       "RGI60-11.007461  RGI60-11.00746        1.0  6.267722e-07    3025.0     478.0   \n",
       "RGI60-11.007462  RGI60-11.00746        2.0  9.574832e-07    2994.0     802.0   \n",
       "RGI60-11.007463  RGI60-11.00746        3.0  9.880243e-07    3267.0     236.0   \n",
       "RGI60-11.007464  RGI60-11.00746        4.0  2.303434e-06    3198.0     544.0   \n",
       "\n",
       "                 segments  \n",
       "RGI60-11.007460      13.0  \n",
       "RGI60-11.007461      10.0  \n",
       "RGI60-11.007462       9.0  \n",
       "RGI60-11.007463       7.0  \n",
       "RGI60-11.007464      22.0  "
      ]
     },
     "execution_count": 24,
     "metadata": {},
     "output_type": "execute_result"
    }
   ],
   "source": [
    "gdfcz = CreatGlacierCatchments(gdirs)\n",
    "gdfcz.head()"
   ]
  },
  {
   "cell_type": "code",
   "execution_count": 25,
   "metadata": {},
   "outputs": [
    {
     "name": "stdout",
     "output_type": "stream",
     "text": [
      "<class 'set'>\n",
      "RGI60-11.01478\n",
      "RGI60-11.01827\n",
      "RGI60-11.01346\n",
      "RGI60-11.00746\n",
      "RGI60-11.03643\n",
      "RGI60-11.01946\n",
      "RGI60-11.02766\n",
      "RGI60-11.01450\n",
      "RGI60-11.02822\n",
      "RGI60-11.02739\n"
     ]
    }
   ],
   "source": [
    "gdfcz.RGI.values\n",
    "#mylist = ['nowplaying', 'PBS', 'PBS', 'nowplaying', 'job', 'debate', 'thenandnow']\n",
    "myset = set(gdfcz.RGI.values)\n",
    "print(type(myset))\n",
    "for i in myset:\n",
    "    print(i)"
   ]
  },
  {
   "cell_type": "code",
   "execution_count": 27,
   "metadata": {},
   "outputs": [
    {
     "data": {
      "text/plain": [
       "<AxesSubplot:>"
      ]
     },
     "execution_count": 27,
     "metadata": {},
     "output_type": "execute_result"
    },
    {
     "data": {
      "image/png": "[encoded data removed]",
      "text/plain": [
       "<Figure size 1440x1440 with 1 Axes>"
      ]
     },
     "metadata": {
      "needs_background": "light"
     },
     "output_type": "display_data"
    }
   ],
   "source": [
    "gdfcz.plot(figsize = (20,20))"
   ]
  },
  {
   "cell_type": "code",
   "execution_count": 28,
   "metadata": {},
   "outputs": [],
   "source": [
    "gdfcz.to_file(\"glacier_OGGM_output.shp\")"
   ]
  },
  {
   "cell_type": "code",
   "execution_count": 29,
   "metadata": {},
   "outputs": [],
   "source": [
    "def CreateSegmentDataFrame(glacier_list, segDataFrame = pd.DataFrame(), outputGeoDataFrame = True):\n",
    "    \"\"\"\n",
    "    Function to add segment data, from glacier, to an existing or new dataframe.\n",
    "    The dataframe will contain segment features and catchment features.\n",
    "    \"\"\"\n",
    "    for glacier in glacier_list:\n",
    "        flowline = glacier.read_pickle('inversion_flowlines') #Centerline object\n",
    "\n",
    "        dx = abs(glacier.grid.dx) # m\n",
    "        dy = abs(glacier.grid.dy) # m\n",
    "\n",
    "        rgi_id = glacier.rgi_id\n",
    "\n",
    "        for j, ci in enumerate(flowline):\n",
    "            \"\"\"\n",
    "            Loop through the linesegments of the glacier.\n",
    "            j = flow line index\n",
    "            ci = centreline\n",
    "            \"\"\"\n",
    "\n",
    "            long_0, lat_0 = ci.line.coords[0]\n",
    "            t_lon_0, t_lat_0 = glacier.grid.ij_to_crs(long_0, lat_0, crs='EPSG:4326')\n",
    "\n",
    "            long_1, lat_1 = ci.line.coords[0]\n",
    "            t_lon_1, t_lat_1 = glacier.grid.ij_to_crs(long_1, lat_1, crs='EPSG:4326')\n",
    "\n",
    "            for coord in range(0,len(ci.line.coords)):\n",
    "                \"\"\"\n",
    "                loop through the points in the centreline segment.\n",
    "\n",
    "                At coord, t_lon_0 will be at coord\n",
    "                \"\"\"\n",
    "                if coord < (len(ci.line.coords) - 1):\n",
    "                    long_2, lat_2 = ci.line.coords[coord+1]\n",
    "                    t_lon_2, t_lat_2 = glacier.grid.ij_to_crs(long_2, lat_2, crs='EPSG:4326')\n",
    "\n",
    "                #Add rgi id:\n",
    "                segDataFrame.loc[rgi_id + str(j) + str(coord), 'RGIid'] = rgi_id\n",
    "\n",
    "                #Add coord number:\n",
    "                segDataFrame.loc[rgi_id + str(j) + str(coord), 'segment_no'] = int(coord)\n",
    "\n",
    "                #Add coords:\n",
    "                segDataFrame.loc[rgi_id + str(j) + str(coord), 'Longitude'] = t_lon_1\n",
    "                segDataFrame.loc[rgi_id + str(j) + str(coord), 'Latitude'] = t_lat_1\n",
    "\n",
    "                #Add widths:\n",
    "                segDataFrame.loc[rgi_id + str(j) + str(coord), 'width, Y (m)'] = ci.widths[coord]*glacier.grid.dx\n",
    "                #Add altitudes:\n",
    "                segDataFrame.loc[rgi_id + str(j) + str(coord), 'altitude (m)'] = ci.surface_h[coord]\n",
    "\n",
    "                #Add dY and dS:\n",
    "                if coord == 0:\n",
    "                    t_lon = np.r_[t_lon_1,t_lon_2]\n",
    "                    t_lat = np.r_[t_lat_1,t_lat_2]\n",
    "\n",
    "                    segDataFrame.loc[rgi_id + str(j) + str(coord), 'dY (m)'] = ci.widths[coord + 1]*glacier.grid.dx - ci.widths[coord]*glacier.grid.dx\n",
    "                    segDataFrame.loc[rgi_id + str(j) + str(coord), 'dS (m)'] = ci.surface_h[coord + 1] - ci.surface_h[coord]\n",
    "\n",
    "\n",
    "                elif coord == (len(ci.line.coords)-1):\n",
    "                    t_lon = np.r_[t_lon_0,t_lon_1]\n",
    "                    t_lat = np.r_[t_lat_0,t_lat_1]\n",
    "\n",
    "                    segDataFrame.loc[rgi_id + str(j) + str(coord), 'dY (m)'] = ci.widths[coord]*glacier.grid.dx - ci.widths[coord-1]*glacier.grid.dx\n",
    "                    segDataFrame.loc[rgi_id + str(j) + str(coord), 'dS (m)'] = ci.surface_h[coord] - ci.surface_h[coord-1]\n",
    "\n",
    "                else:\n",
    "                    t_lon = np.r_[t_lon_0,t_lon_1,t_lon_2]\n",
    "                    t_lat = np.r_[t_lat_0,t_lat_1,t_lon_2]\n",
    "\n",
    "                    segDataFrame.loc[rgi_id + str(j) + str(coord), 'dY (m)'] = ci.widths[coord+1]*glacier.grid.dx - ci.widths[coord-1]*glacier.grid.dx\n",
    "                    segDataFrame.loc[rgi_id + str(j) + str(coord), 'dS (m)'] = ci.surface_h[coord + 1] - ci.surface_h[coord-1]\n",
    "\n",
    "                    segDataFrame.loc[rgi_id + str(j) + str(coord), 'curvature'] = comp_curv.fit(t_lon, t_lat)\n",
    "\n",
    "                #Add normals:\n",
    "                #(x):\n",
    "                segDataFrame.loc[rgi_id + str(j) + str(coord), 'normal x'] = ci.normals[coord][0][0]\n",
    "                #(y):\n",
    "                segDataFrame.loc[rgi_id + str(j) + str(coord), 'normal y'] = ci.normals[coord][0][1]\n",
    "\n",
    "                #Update t_lon_0,t_lon_1,t_lat_0,t_lat_1:\n",
    "                t_lon_0, t_lat_0 = t_lon_1, t_lat_1\n",
    "                t_lon_1, t_lat_1 = t_lon_2, t_lat_2\n",
    "\n",
    "                #Add inflow/flow to data:\n",
    "                #ci.inflow_indices\n",
    "                #ci.flows_to_indice\n",
    "\n",
    "                #Add \n",
    "    if outputGeoDataFrame == True:\n",
    "        #create geoDataFrame with pandas df + point geometry\n",
    "        segGeoDataFrame = gpd.GeoDataFrame(segDataFrame,\n",
    "                                       geometry=gpd.points_from_xy(segDataFrame.Longitude, segDataFrame.Latitude))\n",
    "        \n",
    "    \n",
    "        print(\"Outputted geopandas dataframe.\")\n",
    "        return segGeoDataFrame\n",
    "    \n",
    "    else:\n",
    "        print(\"Outputted pandas dataframe.\")\n",
    "        return segDataFrame"
   ]
  },
  {
   "cell_type": "code",
   "execution_count": 30,
   "metadata": {},
   "outputs": [
    {
     "name": "stdout",
     "output_type": "stream",
     "text": [
      "Outputted geopandas dataframe.\n"
     ]
    },
    {
     "data": {
      "text/html": [
       "<div>\n",
       "<style scoped>\n",
       "    .dataframe tbody tr th:only-of-type {\n",
       "        vertical-align: middle;\n",
       "    }\n",
       "\n",
       "    .dataframe tbody tr th {\n",
       "        vertical-align: top;\n",
       "    }\n",
       "\n",
       "    .dataframe thead th {\n",
       "        text-align: right;\n",
       "    }\n",
       "</style>\n",
       "<table border=\"1\" class=\"dataframe\">\n",
       "  <thead>\n",
       "    <tr style=\"text-align: right;\">\n",
       "      <th></th>\n",
       "      <th>RGIid</th>\n",
       "      <th>segment_no</th>\n",
       "      <th>Longitude</th>\n",
       "      <th>Latitude</th>\n",
       "      <th>width, Y (m)</th>\n",
       "      <th>altitude (m)</th>\n",
       "      <th>dY (m)</th>\n",
       "      <th>dS (m)</th>\n",
       "      <th>normal x</th>\n",
       "      <th>normal y</th>\n",
       "      <th>curvature</th>\n",
       "      <th>geometry</th>\n",
       "    </tr>\n",
       "  </thead>\n",
       "  <tbody>\n",
       "    <tr>\n",
       "      <th>RGI60-11.0074600</th>\n",
       "      <td>RGI60-11.00746</td>\n",
       "      <td>0.0</td>\n",
       "      <td>10.786058</td>\n",
       "      <td>46.872835</td>\n",
       "      <td>527.409080</td>\n",
       "      <td>3247.924756</td>\n",
       "      <td>39.854567</td>\n",
       "      <td>-26.857307</td>\n",
       "      <td>-1.0</td>\n",
       "      <td>0.0</td>\n",
       "      <td>NaN</td>\n",
       "      <td>POINT (10.78606 46.87283)</td>\n",
       "    </tr>\n",
       "    <tr>\n",
       "      <th>RGI60-11.0074601</th>\n",
       "      <td>RGI60-11.00746</td>\n",
       "      <td>1.0</td>\n",
       "      <td>10.786057</td>\n",
       "      <td>46.871629</td>\n",
       "      <td>567.263647</td>\n",
       "      <td>3221.067450</td>\n",
       "      <td>133.930179</td>\n",
       "      <td>-67.066650</td>\n",
       "      <td>-1.0</td>\n",
       "      <td>0.0</td>\n",
       "      <td>0.00003</td>\n",
       "      <td>POINT (10.78606 46.87163)</td>\n",
       "    </tr>\n",
       "    <tr>\n",
       "      <th>RGI60-11.0074602</th>\n",
       "      <td>RGI60-11.00746</td>\n",
       "      <td>2.0</td>\n",
       "      <td>10.786056</td>\n",
       "      <td>46.870423</td>\n",
       "      <td>661.339259</td>\n",
       "      <td>3180.858106</td>\n",
       "      <td>223.058367</td>\n",
       "      <td>-83.767709</td>\n",
       "      <td>-1.0</td>\n",
       "      <td>0.0</td>\n",
       "      <td>0.00003</td>\n",
       "      <td>POINT (10.78606 46.87042)</td>\n",
       "    </tr>\n",
       "    <tr>\n",
       "      <th>RGI60-11.0074603</th>\n",
       "      <td>RGI60-11.00746</td>\n",
       "      <td>3.0</td>\n",
       "      <td>10.786056</td>\n",
       "      <td>46.869217</td>\n",
       "      <td>790.322014</td>\n",
       "      <td>3137.299741</td>\n",
       "      <td>274.797290</td>\n",
       "      <td>-83.109129</td>\n",
       "      <td>-1.0</td>\n",
       "      <td>0.0</td>\n",
       "      <td>0.00003</td>\n",
       "      <td>POINT (10.78606 46.86922)</td>\n",
       "    </tr>\n",
       "    <tr>\n",
       "      <th>RGI60-11.0074604</th>\n",
       "      <td>RGI60-11.00746</td>\n",
       "      <td>4.0</td>\n",
       "      <td>10.786055</td>\n",
       "      <td>46.868011</td>\n",
       "      <td>936.136550</td>\n",
       "      <td>3097.748977</td>\n",
       "      <td>209.189859</td>\n",
       "      <td>-69.415149</td>\n",
       "      <td>-1.0</td>\n",
       "      <td>0.0</td>\n",
       "      <td>0.00003</td>\n",
       "      <td>POINT (10.78606 46.86801)</td>\n",
       "    </tr>\n",
       "  </tbody>\n",
       "</table>\n",
       "</div>"
      ],
      "text/plain": [
       "                           RGIid  segment_no  Longitude   Latitude  \\\n",
       "RGI60-11.0074600  RGI60-11.00746         0.0  10.786058  46.872835   \n",
       "RGI60-11.0074601  RGI60-11.00746         1.0  10.786057  46.871629   \n",
       "RGI60-11.0074602  RGI60-11.00746         2.0  10.786056  46.870423   \n",
       "RGI60-11.0074603  RGI60-11.00746         3.0  10.786056  46.869217   \n",
       "RGI60-11.0074604  RGI60-11.00746         4.0  10.786055  46.868011   \n",
       "\n",
       "                  width, Y (m)  altitude (m)      dY (m)     dS (m)  normal x  \\\n",
       "RGI60-11.0074600    527.409080   3247.924756   39.854567 -26.857307      -1.0   \n",
       "RGI60-11.0074601    567.263647   3221.067450  133.930179 -67.066650      -1.0   \n",
       "RGI60-11.0074602    661.339259   3180.858106  223.058367 -83.767709      -1.0   \n",
       "RGI60-11.0074603    790.322014   3137.299741  274.797290 -83.109129      -1.0   \n",
       "RGI60-11.0074604    936.136550   3097.748977  209.189859 -69.415149      -1.0   \n",
       "\n",
       "                  normal y  curvature                   geometry  \n",
       "RGI60-11.0074600       0.0        NaN  POINT (10.78606 46.87283)  \n",
       "RGI60-11.0074601       0.0    0.00003  POINT (10.78606 46.87163)  \n",
       "RGI60-11.0074602       0.0    0.00003  POINT (10.78606 46.87042)  \n",
       "RGI60-11.0074603       0.0    0.00003  POINT (10.78606 46.86922)  \n",
       "RGI60-11.0074604       0.0    0.00003  POINT (10.78606 46.86801)  "
      ]
     },
     "execution_count": 30,
     "metadata": {},
     "output_type": "execute_result"
    }
   ],
   "source": [
    "segs = CreateSegmentDataFrame(gdirs)\n",
    "segs.head()"
   ]
  },
  {
   "cell_type": "code",
   "execution_count": 16,
   "metadata": {},
   "outputs": [
    {
     "data": {
      "text/html": [
       "<div>\n",
       "<style scoped>\n",
       "    .dataframe tbody tr th:only-of-type {\n",
       "        vertical-align: middle;\n",
       "    }\n",
       "\n",
       "    .dataframe tbody tr th {\n",
       "        vertical-align: top;\n",
       "    }\n",
       "\n",
       "    .dataframe thead th {\n",
       "        text-align: right;\n",
       "    }\n",
       "</style>\n",
       "<table border=\"1\" class=\"dataframe\">\n",
       "  <thead>\n",
       "    <tr style=\"text-align: right;\">\n",
       "      <th></th>\n",
       "      <th>RGIid</th>\n",
       "      <th>segment_no</th>\n",
       "      <th>Longitude</th>\n",
       "      <th>Latitude</th>\n",
       "      <th>width, Y (m)</th>\n",
       "      <th>altitude (m)</th>\n",
       "      <th>dY (m)</th>\n",
       "      <th>dS (m)</th>\n",
       "      <th>normal x</th>\n",
       "      <th>normal y</th>\n",
       "      <th>curvature</th>\n",
       "      <th>geometry</th>\n",
       "    </tr>\n",
       "  </thead>\n",
       "  <tbody>\n",
       "    <tr>\n",
       "      <th>RGI60-11.0145000</th>\n",
       "      <td>RGI60-11.01450</td>\n",
       "      <td>0.0</td>\n",
       "      <td>8.035825</td>\n",
       "      <td>46.557746</td>\n",
       "      <td>11199.184791</td>\n",
       "      <td>3518.615630</td>\n",
       "      <td>-1208.334746</td>\n",
       "      <td>-52.615804</td>\n",
       "      <td>-1.000000</td>\n",
       "      <td>0.000000</td>\n",
       "      <td>NaN</td>\n",
       "      <td>POINT (8.03582 46.55775)</td>\n",
       "    </tr>\n",
       "    <tr>\n",
       "      <th>RGI60-11.0145001</th>\n",
       "      <td>RGI60-11.01450</td>\n",
       "      <td>1.0</td>\n",
       "      <td>8.035824</td>\n",
       "      <td>46.555280</td>\n",
       "      <td>9990.850044</td>\n",
       "      <td>3465.999826</td>\n",
       "      <td>-3869.470769</td>\n",
       "      <td>-115.082455</td>\n",
       "      <td>-1.000000</td>\n",
       "      <td>0.000000</td>\n",
       "      <td>0.000016</td>\n",
       "      <td>POINT (8.03582 46.55528)</td>\n",
       "    </tr>\n",
       "    <tr>\n",
       "      <th>RGI60-11.0145002</th>\n",
       "      <td>RGI60-11.01450</td>\n",
       "      <td>2.0</td>\n",
       "      <td>8.035823</td>\n",
       "      <td>46.552814</td>\n",
       "      <td>7329.714022</td>\n",
       "      <td>3403.533175</td>\n",
       "      <td>-4947.116356</td>\n",
       "      <td>-104.573739</td>\n",
       "      <td>-0.998655</td>\n",
       "      <td>0.051841</td>\n",
       "      <td>0.000016</td>\n",
       "      <td>POINT (8.03582 46.55281)</td>\n",
       "    </tr>\n",
       "    <tr>\n",
       "      <th>RGI60-11.0145003</th>\n",
       "      <td>RGI60-11.01450</td>\n",
       "      <td>3.0</td>\n",
       "      <td>8.035822</td>\n",
       "      <td>46.550348</td>\n",
       "      <td>5043.733688</td>\n",
       "      <td>3361.426087</td>\n",
       "      <td>-3880.719647</td>\n",
       "      <td>-67.066178</td>\n",
       "      <td>-0.967667</td>\n",
       "      <td>0.252232</td>\n",
       "      <td>0.000018</td>\n",
       "      <td>POINT (8.03582 46.55035)</td>\n",
       "    </tr>\n",
       "    <tr>\n",
       "      <th>RGI60-11.0145004</th>\n",
       "      <td>RGI60-11.01450</td>\n",
       "      <td>4.0</td>\n",
       "      <td>8.037289</td>\n",
       "      <td>46.548102</td>\n",
       "      <td>3448.994375</td>\n",
       "      <td>3336.466997</td>\n",
       "      <td>-2399.755184</td>\n",
       "      <td>-45.058727</td>\n",
       "      <td>-0.850312</td>\n",
       "      <td>0.526279</td>\n",
       "      <td>0.028399</td>\n",
       "      <td>POINT (8.03729 46.54810)</td>\n",
       "    </tr>\n",
       "    <tr>\n",
       "      <th>...</th>\n",
       "      <td>...</td>\n",
       "      <td>...</td>\n",
       "      <td>...</td>\n",
       "      <td>...</td>\n",
       "      <td>...</td>\n",
       "      <td>...</td>\n",
       "      <td>...</td>\n",
       "      <td>...</td>\n",
       "      <td>...</td>\n",
       "      <td>...</td>\n",
       "      <td>...</td>\n",
       "      <td>...</td>\n",
       "    </tr>\n",
       "    <tr>\n",
       "      <th>RGI60-11.00897264</th>\n",
       "      <td>RGI60-11.00897</td>\n",
       "      <td>64.0</td>\n",
       "      <td>10.798172</td>\n",
       "      <td>46.817113</td>\n",
       "      <td>210.423740</td>\n",
       "      <td>2491.445994</td>\n",
       "      <td>-65.955007</td>\n",
       "      <td>-24.009367</td>\n",
       "      <td>0.455624</td>\n",
       "      <td>0.890173</td>\n",
       "      <td>0.051404</td>\n",
       "      <td>POINT (10.79817 46.81711)</td>\n",
       "    </tr>\n",
       "    <tr>\n",
       "      <th>RGI60-11.00897265</th>\n",
       "      <td>RGI60-11.00897</td>\n",
       "      <td>65.0</td>\n",
       "      <td>10.799315</td>\n",
       "      <td>46.817553</td>\n",
       "      <td>179.355657</td>\n",
       "      <td>2480.895007</td>\n",
       "      <td>-55.999585</td>\n",
       "      <td>-19.047184</td>\n",
       "      <td>0.423015</td>\n",
       "      <td>0.906123</td>\n",
       "      <td>0.051832</td>\n",
       "      <td>POINT (10.79931 46.81755)</td>\n",
       "    </tr>\n",
       "    <tr>\n",
       "      <th>RGI60-11.00897266</th>\n",
       "      <td>RGI60-11.00897</td>\n",
       "      <td>66.0</td>\n",
       "      <td>10.800552</td>\n",
       "      <td>46.817846</td>\n",
       "      <td>154.424155</td>\n",
       "      <td>2472.398810</td>\n",
       "      <td>-45.912242</td>\n",
       "      <td>-17.960019</td>\n",
       "      <td>0.421611</td>\n",
       "      <td>0.906777</td>\n",
       "      <td>0.054032</td>\n",
       "      <td>POINT (10.80055 46.81785)</td>\n",
       "    </tr>\n",
       "    <tr>\n",
       "      <th>RGI60-11.00897267</th>\n",
       "      <td>RGI60-11.00897</td>\n",
       "      <td>67.0</td>\n",
       "      <td>10.801747</td>\n",
       "      <td>46.818215</td>\n",
       "      <td>133.443416</td>\n",
       "      <td>2462.934987</td>\n",
       "      <td>-32.847490</td>\n",
       "      <td>-18.033309</td>\n",
       "      <td>0.533879</td>\n",
       "      <td>0.845561</td>\n",
       "      <td>0.053056</td>\n",
       "      <td>POINT (10.80175 46.81822)</td>\n",
       "    </tr>\n",
       "    <tr>\n",
       "      <th>RGI60-11.00897268</th>\n",
       "      <td>RGI60-11.00897</td>\n",
       "      <td>68.0</td>\n",
       "      <td>10.802747</td>\n",
       "      <td>46.818796</td>\n",
       "      <td>121.576665</td>\n",
       "      <td>2454.365501</td>\n",
       "      <td>-11.866750</td>\n",
       "      <td>-8.569486</td>\n",
       "      <td>0.646257</td>\n",
       "      <td>0.763120</td>\n",
       "      <td>NaN</td>\n",
       "      <td>POINT (10.80275 46.81880)</td>\n",
       "    </tr>\n",
       "  </tbody>\n",
       "</table>\n",
       "<p>251 rows × 12 columns</p>\n",
       "</div>"
      ],
      "text/plain": [
       "                            RGIid  segment_no  Longitude   Latitude  \\\n",
       "RGI60-11.0145000   RGI60-11.01450         0.0   8.035825  46.557746   \n",
       "RGI60-11.0145001   RGI60-11.01450         1.0   8.035824  46.555280   \n",
       "RGI60-11.0145002   RGI60-11.01450         2.0   8.035823  46.552814   \n",
       "RGI60-11.0145003   RGI60-11.01450         3.0   8.035822  46.550348   \n",
       "RGI60-11.0145004   RGI60-11.01450         4.0   8.037289  46.548102   \n",
       "...                           ...         ...        ...        ...   \n",
       "RGI60-11.00897264  RGI60-11.00897        64.0  10.798172  46.817113   \n",
       "RGI60-11.00897265  RGI60-11.00897        65.0  10.799315  46.817553   \n",
       "RGI60-11.00897266  RGI60-11.00897        66.0  10.800552  46.817846   \n",
       "RGI60-11.00897267  RGI60-11.00897        67.0  10.801747  46.818215   \n",
       "RGI60-11.00897268  RGI60-11.00897        68.0  10.802747  46.818796   \n",
       "\n",
       "                   width, Y (m)  altitude (m)       dY (m)      dS (m)  \\\n",
       "RGI60-11.0145000   11199.184791   3518.615630 -1208.334746  -52.615804   \n",
       "RGI60-11.0145001    9990.850044   3465.999826 -3869.470769 -115.082455   \n",
       "RGI60-11.0145002    7329.714022   3403.533175 -4947.116356 -104.573739   \n",
       "RGI60-11.0145003    5043.733688   3361.426087 -3880.719647  -67.066178   \n",
       "RGI60-11.0145004    3448.994375   3336.466997 -2399.755184  -45.058727   \n",
       "...                         ...           ...          ...         ...   \n",
       "RGI60-11.00897264    210.423740   2491.445994   -65.955007  -24.009367   \n",
       "RGI60-11.00897265    179.355657   2480.895007   -55.999585  -19.047184   \n",
       "RGI60-11.00897266    154.424155   2472.398810   -45.912242  -17.960019   \n",
       "RGI60-11.00897267    133.443416   2462.934987   -32.847490  -18.033309   \n",
       "RGI60-11.00897268    121.576665   2454.365501   -11.866750   -8.569486   \n",
       "\n",
       "                   normal x  normal y  curvature                   geometry  \n",
       "RGI60-11.0145000  -1.000000  0.000000        NaN   POINT (8.03582 46.55775)  \n",
       "RGI60-11.0145001  -1.000000  0.000000   0.000016   POINT (8.03582 46.55528)  \n",
       "RGI60-11.0145002  -0.998655  0.051841   0.000016   POINT (8.03582 46.55281)  \n",
       "RGI60-11.0145003  -0.967667  0.252232   0.000018   POINT (8.03582 46.55035)  \n",
       "RGI60-11.0145004  -0.850312  0.526279   0.028399   POINT (8.03729 46.54810)  \n",
       "...                     ...       ...        ...                        ...  \n",
       "RGI60-11.00897264  0.455624  0.890173   0.051404  POINT (10.79817 46.81711)  \n",
       "RGI60-11.00897265  0.423015  0.906123   0.051832  POINT (10.79931 46.81755)  \n",
       "RGI60-11.00897266  0.421611  0.906777   0.054032  POINT (10.80055 46.81785)  \n",
       "RGI60-11.00897267  0.533879  0.845561   0.053056  POINT (10.80175 46.81822)  \n",
       "RGI60-11.00897268  0.646257  0.763120        NaN  POINT (10.80275 46.81880)  \n",
       "\n",
       "[251 rows x 12 columns]"
      ]
     },
     "execution_count": 16,
     "metadata": {},
     "output_type": "execute_result"
    }
   ],
   "source": [
    "segs"
   ]
  },
  {
   "cell_type": "code",
   "execution_count": null,
   "metadata": {},
   "outputs": [],
   "source": []
  },
  {
   "cell_type": "code",
   "execution_count": 31,
   "metadata": {},
   "outputs": [
    {
     "data": {
      "text/plain": [
       "<AxesSubplot:>"
      ]
     },
     "execution_count": 31,
     "metadata": {},
     "output_type": "execute_result"
    },
    {
     "data": {
      "image/png": "[encoded data removed]",
      "text/plain": [
       "<Figure size 720x720 with 1 Axes>"
      ]
     },
     "metadata": {
      "needs_background": "light"
     },
     "output_type": "display_data"
    }
   ],
   "source": [
    "segs.plot(figsize=(10,10))"
   ]
  },
  {
   "cell_type": "code",
   "execution_count": 32,
   "metadata": {},
   "outputs": [],
   "source": [
    "segs.to_file(\"OGGM_output_segment_points.shp\")"
   ]
  },
  {
   "cell_type": "code",
   "execution_count": 23,
   "metadata": {},
   "outputs": [
    {
     "data": {
      "image/png": "[encoded data removed]",
      "text/plain": [
       "<Figure size 432x288 with 1 Axes>"
      ]
     },
     "metadata": {
      "needs_background": "light"
     },
     "output_type": "display_data"
    }
   ],
   "source": [
    "#Curve Example\n",
    "# Apply code for an example\n",
    "#[8.03582249 8.03728949 8.03981605] [46.55034815 46.54810239  8.03981605]\n",
    "x = np.r_[8.03582249, 8.03728949, 8.03981605]\n",
    "y = np.r_[46.55034815, 46.54810239,  8.03981605]\n",
    "comp_curv = ComputeCurvature()\n",
    "curvature = comp_curv.fit(x, y)\n",
    "\n",
    "# Plot the result\n",
    "theta_fit = np.linspace(-np.pi, np.pi, 180)\n",
    "x_fit = comp_curv.xc + comp_curv.r*np.cos(theta_fit)\n",
    "y_fit = comp_curv.yc + comp_curv.r*np.sin(theta_fit)\n",
    "plt.plot(x_fit, y_fit, 'k--', label='fit', lw=2)\n",
    "plt.plot(x, y, 'ro', label='data', ms=8, mec='b', mew=1)\n",
    "plt.xlabel('x')\n",
    "plt.ylabel('y')\n",
    "plt.title('curvature = {:.3e}'.format(curvature))\n",
    "plt.show()"
   ]
  },
  {
   "cell_type": "code",
   "execution_count": null,
   "metadata": {},
   "outputs": [],
   "source": []
  }
 ],
 "metadata": {
  "kernelspec": {
   "display_name": "Python 3",
   "language": "python",
   "name": "python3"
  },
  "language_info": {
   "codemirror_mode": {
    "name": "ipython",
    "version": 3
   },
   "file_extension": ".py",
   "mimetype": "text/x-python",
   "name": "python",
   "nbconvert_exporter": "python",
   "pygments_lexer": "ipython3",
   "version": "3.8.5"
  }
 },
 "nbformat": 4,
 "nbformat_minor": 4
}
